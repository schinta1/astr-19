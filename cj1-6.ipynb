{
 "cells": [
  {
   "cell_type": "markdown",
   "metadata": {},
   "source": [
    "import all the necessary libraries\n"
   ]
  },
  {
   "cell_type": "code",
   "execution_count": 1,
   "metadata": {},
   "outputs": [],
   "source": [
    "import numpy as np\n",
    "import astropy\n",
    "from astropy.table import Table\n",
    "from astropy.io import ascii\n",
    "from astropy.io import fits"
   ]
  },
  {
   "cell_type": "markdown",
   "metadata": {},
   "source": [
    "creating sin function that takes a value and returns the sin of it"
   ]
  },
  {
   "cell_type": "code",
   "execution_count": 2,
   "metadata": {},
   "outputs": [],
   "source": [
    "def sin(x):\n",
    "    return np.sin(x)"
   ]
  },
  {
   "cell_type": "markdown",
   "metadata": {},
   "source": [
    "creating a cos function that takes a value and returns the cos of it "
   ]
  },
  {
   "cell_type": "code",
   "execution_count": 3,
   "metadata": {},
   "outputs": [],
   "source": [
    "def cos(x):\n",
    "    return np.cos(x)"
   ]
  },
  {
   "cell_type": "markdown",
   "metadata": {},
   "source": [
    "tabulating sin and cos with x"
   ]
  },
  {
   "cell_type": "code",
   "execution_count": 4,
   "metadata": {},
   "outputs": [],
   "source": [
    "x = np.linspace(0, 2 * np.pi, 1000)\n",
    "y = sin(x)\n",
    "z = cos(x)\n",
    "data = Table([x, y,z], names=[\"x\", \"sin(x)\", \"cos(x)\"])\n"
   ]
  },
  {
   "cell_type": "markdown",
   "metadata": {},
   "source": [
    "looping to print the first 10 columns"
   ]
  },
  {
   "cell_type": "code",
   "execution_count": 5,
   "metadata": {},
   "outputs": [
    {
     "name": "stdout",
     "output_type": "stream",
     "text": [
      " x  sin(x) cos(x)\n",
      "--- ------ ------\n",
      "0.0    0.0    1.0\n",
      "         x                  sin(x)              cos(x)      \n",
      "-------------------- -------------------- ------------------\n",
      "0.006289474781961547 0.006289433316067751 0.9999802213186832\n",
      "         x                  sin(x)              cos(x)      \n",
      "-------------------- -------------------- ------------------\n",
      "0.012578949563923095 0.012578617838741058 0.9999208860571255\n",
      "         x                  sin(x)             cos(x)      \n",
      "-------------------- ------------------- ------------------\n",
      "0.018868424345884642 0.01886730478446709 0.9998219965624732\n",
      "         x                 sin(x)              cos(x)      \n",
      "------------------- -------------------- ------------------\n",
      "0.02515789912784619 0.025155245389375847 0.9996835567465339\n",
      "         x                sin(x)             cos(x)      \n",
      "------------------- ------------------ ------------------\n",
      "0.03144737390980774 0.0314421909191206 0.9995055720856215\n",
      "         x                  sin(x)            cos(x)     \n",
      "-------------------- ------------------- ----------------\n",
      "0.037736848691769284 0.03772789267871718 0.99928804962034\n",
      "         x                 sin(x)             cos(x)      \n",
      "------------------- ------------------- ------------------\n",
      "0.04402632347373083 0.04401210202238166 0.9990309979553044\n",
      "         x                 sin(x)             cos(x)      \n",
      "------------------- ------------------- ------------------\n",
      "0.05031579825569238 0.05029457036336618 0.9987344272588006\n",
      "         x                  sin(x)              cos(x)      \n",
      "-------------------- -------------------- ------------------\n",
      "0.056605273037653926 0.056575049183792345 0.9983983492623831\n"
     ]
    }
   ],
   "source": [
    "for x in range(10):\n",
    "    print(data[x])"
   ]
  }
 ],
 "metadata": {
  "kernelspec": {
   "display_name": "Python 3",
   "language": "python",
   "name": "python3"
  },
  "language_info": {
   "codemirror_mode": {
    "name": "ipython",
    "version": 3
   },
   "file_extension": ".py",
   "mimetype": "text/x-python",
   "name": "python",
   "nbconvert_exporter": "python",
   "pygments_lexer": "ipython3",
   "version": "3.10.10"
  }
 },
 "nbformat": 4,
 "nbformat_minor": 2
}
