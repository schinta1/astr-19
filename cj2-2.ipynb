{
 "cells": [
  {
   "cell_type": "markdown",
   "metadata": {},
   "source": [
    "creating array and defining sin(x) and cos(x)"
   ]
  },
  {
   "cell_type": "code",
   "execution_count": null,
   "metadata": {},
   "outputs": [],
   "source": [
    "import matplotlib \n",
    "import math\n",
    "import matplotlib.pyplot as plt\n",
    "import numpy as np\n",
    "\n",
    "x = np.linspace(0,1,100)\n",
    "\n",
    "def x_sin(x):\n",
    "    return np.sin(x)\n",
    "\n",
    "def x_cos(x):\n",
    "    return np.cos(x)\n",
    "\n"
   ]
  },
  {
   "cell_type": "markdown",
   "metadata": {},
   "source": [
    "creating a multipanel graph"
   ]
  },
  {
   "cell_type": "code",
   "execution_count": null,
   "metadata": {},
   "outputs": [],
   "source": [
    "nrow = 1\n",
    "ncolumn = 2\n",
    "lcolor='red'\n",
    "fs=11\n",
    "f, ax = plt.subplots(nrow,ncolumn,figsize=(4*ncolumn,4*nrow))\n",
    "\n",
    "ax[0].plot(x,x_sin(x),color=lcolor,linewidth=1.5,label='model (line)') # a line\n",
    "#label our axes\n",
    "ax[0].set_xlabel(\"x\",fontsize=fs)\n",
    "ax[0].set_ylabel(\"sin(x)\",fontsize=fs)\n",
    "ax[0].set_title(\"sin(x)\")\n",
    "ax[1].plot(x,x_cos(x),color=lcolor,linewidth=1.5,label='model (line)') # a line\n",
    "#label our axes\n",
    "ax[1].set_xlabel(\"x\",fontsize=fs)\n",
    "ax[1].set_ylabel(\"cos(x)\",fontsize=fs)\n",
    "ax[1].set_title(\"cos(x)\")\n",
    "plt.savefig(\"2_2plot.pdf\",bbox_inches='tight',dpi=400)\n"
   ]
  }
 ],
 "metadata": {
  "kernelspec": {
   "display_name": "Python 3",
   "language": "python",
   "name": "python3"
  },
  "language_info": {
   "codemirror_mode": {
    "name": "ipython",
    "version": 3
   },
   "file_extension": ".py",
   "mimetype": "text/x-python",
   "name": "python",
   "nbconvert_exporter": "python",
   "pygments_lexer": "ipython3",
   "version": "3.10.10"
  }
 },
 "nbformat": 4,
 "nbformat_minor": 2
}
