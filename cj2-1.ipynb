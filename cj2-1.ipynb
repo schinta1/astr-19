{
 "cells": [
  {
   "cell_type": "markdown",
   "metadata": {},
   "source": [
    "Import statements, defining x and exp(x)"
   ]
  },
  {
   "cell_type": "code",
   "execution_count": null,
   "metadata": {},
   "outputs": [],
   "source": [
    "import matplotlib \n",
    "import math\n",
    "import matplotlib.pyplot as plt\n",
    "import numpy as np\n",
    "x = np.linspace(0,1,100)\n",
    "\n",
    "def x_exp(x):\n",
    "    return np.exp(x)\n"
   ]
  },
  {
   "cell_type": "markdown",
   "metadata": {},
   "source": [
    "defining y and plotting x vs y"
   ]
  },
  {
   "cell_type": "code",
   "execution_count": null,
   "metadata": {},
   "outputs": [],
   "source": [
    "y = x_exp(x)\n",
    "\n",
    "lcolor='red'\n",
    "xlabel='\"Time [milliseconds]\"' \n",
    "ylabel='“Awesomeness”'\n",
    "fs=11\n",
    "\n",
    "f, ax = plt.subplots(1,1,figsize=(4,4))\n",
    "ax.plot(x,y,color=lcolor,linewidth=1.5)\n",
    "ax.set_xlabel(xlabel,fontsize=fs)\n",
    "ax.set_ylabel(ylabel,fontsize=fs)\n",
    "plt.title('\"Time [milliseconds] vs “Awesomeness”')\n",
    "plt.savefig(\"2_1plot.pdf\",bbox_inches='tight',dpi=400)\n"
   ]
  }
 ],
 "metadata": {
  "kernelspec": {
   "display_name": "Python 3",
   "language": "python",
   "name": "python3"
  },
  "language_info": {
   "codemirror_mode": {
    "name": "ipython",
    "version": 3
   },
   "file_extension": ".py",
   "mimetype": "text/x-python",
   "name": "python",
   "nbconvert_exporter": "python",
   "pygments_lexer": "ipython3",
   "version": "3.10.10"
  }
 },
 "nbformat": 4,
 "nbformat_minor": 2
}
